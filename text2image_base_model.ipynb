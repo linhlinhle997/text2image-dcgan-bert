{
  "nbformat": 4,
  "nbformat_minor": 0,
  "metadata": {
    "colab": {
      "provenance": [],
      "authorship_tag": "ABX9TyNvOoAPbynq0WKtI+fNMnA9",
      "include_colab_link": true
    },
    "kernelspec": {
      "name": "python3",
      "display_name": "Python 3"
    },
    "language_info": {
      "name": "python"
    }
  },
  "cells": [
    {
      "cell_type": "markdown",
      "metadata": {
        "id": "view-in-github",
        "colab_type": "text"
      },
      "source": [
        "<a href=\"https://colab.research.google.com/github/linhlinhle997/text2image-dcgan-bert/blob/develop/text2image_base_model.ipynb\" target=\"_parent\"><img src=\"https://colab.research.google.com/assets/colab-badge.svg\" alt=\"Open In Colab\"/></a>"
      ]
    },
    {
      "cell_type": "code",
      "execution_count": 1,
      "metadata": {
        "id": "GS8scyXkZw09"
      },
      "outputs": [],
      "source": [
        "import os\n",
        "import urllib.request\n",
        "import zipfile\n",
        "import numpy as np\n",
        "import nltk\n",
        "from PIL import Image\n",
        "import matplotlib.pyplot as plt\n",
        "from collections import Counter\n",
        "from nltk.tokenize import word_tokenize\n",
        "from tokenizers import Tokenizer, pre_tokenizers, trainers, models\n",
        "\n",
        "import torch\n",
        "import torch.nn as nn\n",
        "import torch.optim as optim\n",
        "import torchvision\n",
        "import torchvision.transforms as transforms\n",
        "import torchvision.utils as vutils\n",
        "from torch.utils.data import Dataset, DataLoader\n",
        "from transformers import PreTrainedTokenizerFast"
      ]
    },
    {
      "cell_type": "markdown",
      "source": [
        "## Download Dataset"
      ],
      "metadata": {
        "id": "CmyfPskKb1NO"
      }
    },
    {
      "cell_type": "code",
      "source": [
        "def download_flickr8k(dataset_dir=\"Flickr8k\"):\n",
        "    os.makedirs(dataset_dir, exist_ok=True)\n",
        "\n",
        "    urls = {\n",
        "        \"images\": \"https://github.com/jbrownlee/Datasets/releases/download/Flickr8k/Flickr8k_Dataset.zip\",\n",
        "        \"captions\": \"https://github.com/jbrownlee/Datasets/releases/download/Flickr8k/Flickr8k_text.zip\"\n",
        "    }\n",
        "\n",
        "    for key, url in urls.items():\n",
        "        zip_path = os.path.join(dataset_dir, f\"{key}.zip\")\n",
        "        extract_path = os.path.join(dataset_dir, key)\n",
        "\n",
        "        if not os.path.exists(extract_path):\n",
        "            urllib.request.urlretrieve(url, zip_path)\n",
        "\n",
        "            with zipfile.ZipFile(zip_path, \"r\") as zip_ref:\n",
        "                zip_ref.extractall(dataset_dir)\n",
        "\n",
        "            os.remove(zip_path)\n",
        "\n",
        "\n",
        "download_flickr8k()"
      ],
      "metadata": {
        "id": "FZmDqE1matz4"
      },
      "execution_count": 2,
      "outputs": []
    },
    {
      "cell_type": "code",
      "source": [
        "CAPTIONS_FILE = \"/content/Flickr8k/Flickr8k.token.txt\"\n",
        "IMAGE_DIR = \"/content/Flickr8k/Flicker8k_Dataset\"\n",
        "\n",
        "captions, text = {}, []\n",
        "\n",
        "with open(CAPTIONS_FILE, \"r\") as f:\n",
        "    for line in f:\n",
        "        parts = line.strip().split(\"\\t\")\n",
        "        img_name = parts[0].split(\"#\")[0]\n",
        "\n",
        "        # Check if \".1\" at the end of the file, then remove\n",
        "        if img_name.endswith(\".1\"):\n",
        "            img_name = img_name[:-2]\n",
        "\n",
        "        #  Check if the file exists\n",
        "        img_path = os.path.join(IMAGE_DIR, img_name)\n",
        "        if not os.path.exists(img_path):\n",
        "            print(f\"File does not exist: {img_name}\")\n",
        "            continue\n",
        "\n",
        "        caption = parts[1].lower()\n",
        "        text.append(caption)\n",
        "\n",
        "        if img_name not in captions:\n",
        "            captions[img_name] = []\n",
        "        captions[img_name].append(caption)"
      ],
      "metadata": {
        "colab": {
          "base_uri": "https://localhost:8080/"
        },
        "id": "42fQikYlbvt6",
        "outputId": "29521fee-b0d3-45cd-ddb6-b469a44b4282"
      },
      "execution_count": 3,
      "outputs": [
        {
          "output_type": "stream",
          "name": "stdout",
          "text": [
            "File does not exist: 2258277193_586949ec62.jpg\n",
            "File does not exist: 2258277193_586949ec62.jpg\n",
            "File does not exist: 2258277193_586949ec62.jpg\n",
            "File does not exist: 2258277193_586949ec62.jpg\n",
            "File does not exist: 2258277193_586949ec62.jpg\n"
          ]
        }
      ]
    },
    {
      "cell_type": "code",
      "source": [
        "print(f\"Total valid images: {len(captions)}\")\n",
        "print(f\"Total captions collected: {len(text)}\")\n",
        "print(\"Sample captions: \")\n",
        "dict(list(captions.items())[:5])"
      ],
      "metadata": {
        "colab": {
          "base_uri": "https://localhost:8080/"
        },
        "id": "0DdM_YiqdIm6",
        "outputId": "8750b024-bcb7-4d5c-b89e-ca987a452839"
      },
      "execution_count": 4,
      "outputs": [
        {
          "output_type": "stream",
          "name": "stdout",
          "text": [
            "Total valid images: 8091\n",
            "Total captions collected: 40455\n",
            "Sample captions: \n"
          ]
        },
        {
          "output_type": "execute_result",
          "data": {
            "text/plain": [
              "{'1000268201_693b08cb0e.jpg': ['a child in a pink dress is climbing up a set of stairs in an entry way .',\n",
              "  'a girl going into a wooden building .',\n",
              "  'a little girl climbing into a wooden playhouse .',\n",
              "  'a little girl climbing the stairs to her playhouse .',\n",
              "  'a little girl in a pink dress going into a wooden cabin .'],\n",
              " '1001773457_577c3a7d70.jpg': ['a black dog and a spotted dog are fighting',\n",
              "  'a black dog and a tri-colored dog playing with each other on the road .',\n",
              "  'a black dog and a white dog with brown spots are staring at each other in the street .',\n",
              "  'two dogs of different breeds looking at each other on the road .',\n",
              "  'two dogs on pavement moving toward each other .'],\n",
              " '1002674143_1b742ab4b8.jpg': ['a little girl covered in paint sits in front of a painted rainbow with her hands in a bowl .',\n",
              "  'a little girl is sitting in front of a large painted rainbow .',\n",
              "  'a small girl in the grass plays with fingerpaints in front of a white canvas with a rainbow on it .',\n",
              "  'there is a girl with pigtails sitting in front of a rainbow painting .',\n",
              "  'young girl with pigtails painting outside in the grass .'],\n",
              " '1003163366_44323f5815.jpg': ['a man lays on a bench while his dog sits by him .',\n",
              "  'a man lays on the bench to which a white dog is also tied .',\n",
              "  'a man sleeping on a bench outside with a white and black dog sitting next to him .',\n",
              "  'a shirtless man lies on a park bench with his dog .',\n",
              "  'man laying on bench holding leash of dog sitting on ground'],\n",
              " '1007129816_e794419615.jpg': ['a man in an orange hat starring at something .',\n",
              "  'a man wears an orange hat and glasses .',\n",
              "  'a man with gauges and glasses is wearing a blitz hat .',\n",
              "  'a man with glasses is wearing a beer can crocheted hat .',\n",
              "  'the man with pierced ears is wearing glasses and an orange hat .']}"
            ]
          },
          "metadata": {},
          "execution_count": 4
        }
      ]
    },
    {
      "cell_type": "markdown",
      "source": [
        "## Data Preprocessing"
      ],
      "metadata": {
        "id": "2vINYS0zfibo"
      }
    },
    {
      "cell_type": "markdown",
      "source": [
        "### Tokenizer"
      ],
      "metadata": {
        "id": "6OakoL-NfK1m"
      }
    },
    {
      "cell_type": "code",
      "source": [
        "# Create a word-based tokenizer\n",
        "tokenizer = Tokenizer(models.WordLevel(unk_token=\"<unk>\"))\n",
        "\n",
        "tokenizer.pre_tokenizer = pre_tokenizers.Whitespace()\n",
        "\n",
        "trainer = trainers.WordLevelTrainer(\n",
        "    vocab_size=10000,\n",
        "    min_frequency=2,\n",
        "    special_tokens=[\"<pad>\", \"<unk>\"]\n",
        ")\n",
        "\n",
        "# Train tokenizer on collected captions\n",
        "tokenizer.train_from_iterator(text, trainer)\n",
        "\n",
        "# Save the trained tokenizer\n",
        "tokenizer.save(\"tokenizer.json\")"
      ],
      "metadata": {
        "id": "l-c-G-gKd9rW"
      },
      "execution_count": 5,
      "outputs": []
    },
    {
      "cell_type": "code",
      "source": [
        "# Load vocabulary from the tokenizer\n",
        "vocab = tokenizer.get_vocab() # Extract vocabulary\n",
        "word_to_id = lambda word: vocab.get(word, vocab[\"<unk>\"]) # Function to get word ID"
      ],
      "metadata": {
        "id": "pbMvfEgney2Y"
      },
      "execution_count": 6,
      "outputs": []
    },
    {
      "cell_type": "code",
      "source": [
        "# Load tokenizer has been trained in PreTrainedTokenizerFast\n",
        "tokenizer = PreTrainedTokenizerFast(\n",
        "    tokenizer_file=\"tokenizer.json\",\n",
        "    unk_token=\"<unk>\",\n",
        "    pad_token=\"<pad>\"\n",
        ")"
      ],
      "metadata": {
        "id": "W1UzZK9_fIbc"
      },
      "execution_count": 7,
      "outputs": []
    },
    {
      "cell_type": "code",
      "source": [
        "len(tokenizer)"
      ],
      "metadata": {
        "colab": {
          "base_uri": "https://localhost:8080/"
        },
        "id": "nabZKPC_Mfhg",
        "outputId": "be7113d2-9ec1-41b8-a16b-bec3c31592cc"
      },
      "execution_count": 8,
      "outputs": [
        {
          "output_type": "execute_result",
          "data": {
            "text/plain": [
              "5167"
            ]
          },
          "metadata": {},
          "execution_count": 8
        }
      ]
    },
    {
      "cell_type": "code",
      "source": [
        "tokenizer(\"i go to school\")"
      ],
      "metadata": {
        "colab": {
          "base_uri": "https://localhost:8080/"
        },
        "id": "-7N2U-tDfgwL",
        "outputId": "302d5747-c84b-448c-b7d5-7ce5f1e79f3f"
      },
      "execution_count": 9,
      "outputs": [
        {
          "output_type": "execute_result",
          "data": {
            "text/plain": [
              "{'input_ids': [1427, 526, 21, 750], 'token_type_ids': [0, 0, 0, 0], 'attention_mask': [1, 1, 1, 1]}"
            ]
          },
          "metadata": {},
          "execution_count": 9
        }
      ]
    },
    {
      "cell_type": "code",
      "source": [
        "nltk.download('punkt_tab')"
      ],
      "metadata": {
        "colab": {
          "base_uri": "https://localhost:8080/"
        },
        "id": "gTYf-Z0uMoNG",
        "outputId": "d3aa6f7a-38c3-41ec-b9c4-1ae35748b2e2"
      },
      "execution_count": 10,
      "outputs": [
        {
          "output_type": "stream",
          "name": "stderr",
          "text": [
            "[nltk_data] Downloading package punkt_tab to /root/nltk_data...\n",
            "[nltk_data]   Unzipping tokenizers/punkt_tab.zip.\n"
          ]
        },
        {
          "output_type": "execute_result",
          "data": {
            "text/plain": [
              "True"
            ]
          },
          "metadata": {},
          "execution_count": 10
        }
      ]
    },
    {
      "cell_type": "markdown",
      "source": [
        "### Load Flickr8k dataset"
      ],
      "metadata": {
        "id": "PmKGs110ftYF"
      }
    },
    {
      "cell_type": "code",
      "source": [
        "class Flickr8kDataset(Dataset):\n",
        "    def __init__(self, img_dir, captions, transform=None):\n",
        "        self.img_dir = img_dir\n",
        "        self.captions = captions\n",
        "        self.img_names = list(captions.keys())\n",
        "        self.transform = transform\n",
        "\n",
        "    def __len__(self):\n",
        "        return len(self.img_names)\n",
        "\n",
        "    def __getitem__(self, idx):\n",
        "        img_name = self.img_names[idx]\n",
        "        img_path = os.path.join(self.img_dir, img_name)\n",
        "        image = Image.open(img_path).convert(\"RGB\")\n",
        "\n",
        "        if self.transform:\n",
        "            image = self.transform(image)\n",
        "\n",
        "        caption = np.random.choice(self.captions[img_name]) # Select random caption\n",
        "        encoded_caption = tokenizer(\n",
        "            caption,\n",
        "            padding=\"max_length\",\n",
        "            truncation=True,\n",
        "            max_length=20,\n",
        "            return_tensors=\"pt\"\n",
        "        )[\"input_ids\"][0] # (1, 20) -> (20,)\n",
        "\n",
        "        return {\n",
        "            \"image\": image,\n",
        "            \"caption\": encoded_caption\n",
        "        }"
      ],
      "metadata": {
        "id": "hwEKHmQIffrR"
      },
      "execution_count": 11,
      "outputs": []
    },
    {
      "cell_type": "code",
      "source": [
        "transform = transforms.Compose([\n",
        "    transforms.Resize((8, 8)),\n",
        "    transforms.ToTensor(),\n",
        "    transforms.Normalize([0.5], [0.5])\n",
        "])\n",
        "\n",
        "dataset = Flickr8kDataset(IMAGE_DIR, captions, transform)"
      ],
      "metadata": {
        "id": "xMCG1tathnV6"
      },
      "execution_count": 12,
      "outputs": []
    },
    {
      "cell_type": "code",
      "source": [
        "sample = next(iter(dataset))\n",
        "sample"
      ],
      "metadata": {
        "colab": {
          "base_uri": "https://localhost:8080/"
        },
        "id": "RUwX134ghzAL",
        "outputId": "5c9df46b-2284-4493-bf45-071ea8d0b166"
      },
      "execution_count": 13,
      "outputs": [
        {
          "output_type": "execute_result",
          "data": {
            "text/plain": [
              "{'image': tensor([[[-0.0824, -0.3412, -0.2471, -0.2706, -0.3647, -0.4196, -0.2549,\n",
              "           -0.5294],\n",
              "          [-0.2863, -0.5137, -0.1451, -0.2078, -0.4118, -0.4431, -0.2157,\n",
              "           -0.5373],\n",
              "          [-0.0902, -0.1765, -0.1608, -0.2471, -0.3490, -0.3255, -0.1059,\n",
              "           -0.4667],\n",
              "          [ 0.4510,  0.1529, -0.0824, -0.2471, -0.2863, -0.3333, -0.0902,\n",
              "           -0.2235],\n",
              "          [ 0.2157, -0.1059, -0.1529, -0.2235, -0.2392, -0.2627, -0.2314,\n",
              "           -0.3490],\n",
              "          [-0.5843, -0.7333, -0.5373, -0.3412, -0.2706, -0.2078, -0.0667,\n",
              "           -0.3098],\n",
              "          [-0.2549, -0.4431, -0.4902, -0.4824, -0.6863, -0.5686, -0.3176,\n",
              "           -0.3333],\n",
              "          [ 0.3255, -0.0353, -0.3255, -0.2863,  0.0196, -0.4118, -0.5529,\n",
              "           -0.1216]],\n",
              " \n",
              "         [[-0.0353, -0.4275, -0.3490, -0.3882, -0.5373, -0.5373, -0.3333,\n",
              "           -0.5137],\n",
              "          [-0.3333, -0.5922, -0.3255, -0.3647, -0.4980, -0.4902, -0.2784,\n",
              "           -0.4824],\n",
              "          [-0.2627, -0.3098, -0.3961, -0.4431, -0.4745, -0.3961, -0.1294,\n",
              "           -0.4118],\n",
              "          [-0.0118, -0.1294, -0.3333, -0.4510, -0.4039, -0.4196, -0.1686,\n",
              "           -0.1843],\n",
              "          [-0.1529, -0.3882, -0.3725, -0.4431, -0.4588, -0.4667, -0.3882,\n",
              "           -0.4275],\n",
              "          [-0.6314, -0.7725, -0.6235, -0.5294, -0.4980, -0.4510, -0.2941,\n",
              "           -0.4667],\n",
              "          [-0.3490, -0.5059, -0.5529, -0.5529, -0.6235, -0.6706, -0.5137,\n",
              "           -0.4431],\n",
              "          [ 0.0353, -0.2078, -0.3961, -0.3255,  0.0510, -0.5373, -0.6078,\n",
              "            0.0275]],\n",
              " \n",
              "         [[-0.1843, -0.5843, -0.5294, -0.5922, -0.7333, -0.7020, -0.5608,\n",
              "           -0.7490],\n",
              "          [-0.5137, -0.7412, -0.5451, -0.5686, -0.6471, -0.6235, -0.5373,\n",
              "           -0.7333],\n",
              "          [-0.4667, -0.4588, -0.6157, -0.6549, -0.6392, -0.5216, -0.4118,\n",
              "           -0.6392],\n",
              "          [-0.1137, -0.1608, -0.5373, -0.6471, -0.5608, -0.5373, -0.3647,\n",
              "           -0.4431],\n",
              "          [-0.1686, -0.4039, -0.5451, -0.6235, -0.6549, -0.6549, -0.6157,\n",
              "           -0.6471],\n",
              "          [-0.6941, -0.8353, -0.7098, -0.7098, -0.7020, -0.6784, -0.6000,\n",
              "           -0.7020],\n",
              "          [-0.5451, -0.6235, -0.6471, -0.6863, -0.7647, -0.8275, -0.7098,\n",
              "           -0.5922],\n",
              "          [-0.3569, -0.4588, -0.5451, -0.4431, -0.0353, -0.6863, -0.6549,\n",
              "            0.1765]]]),\n",
              " 'caption': tensor([  2,  19, 321,  66,   2, 199, 119,   3,   0,   0,   0,   0,   0,   0,\n",
              "           0,   0,   0,   0,   0,   0])}"
            ]
          },
          "metadata": {},
          "execution_count": 13
        }
      ]
    },
    {
      "cell_type": "code",
      "source": [
        "sample['image'].shape, sample['caption'].shape"
      ],
      "metadata": {
        "colab": {
          "base_uri": "https://localhost:8080/"
        },
        "id": "KUyLehQmh3-9",
        "outputId": "2ff5a4fa-fe1f-40bc-c053-1148dd4752c8"
      },
      "execution_count": 14,
      "outputs": [
        {
          "output_type": "execute_result",
          "data": {
            "text/plain": [
              "(torch.Size([3, 8, 8]), torch.Size([20]))"
            ]
          },
          "metadata": {},
          "execution_count": 14
        }
      ]
    },
    {
      "cell_type": "markdown",
      "source": [
        "### DataLoader"
      ],
      "metadata": {
        "id": "ZiUH32YqNUWn"
      }
    },
    {
      "cell_type": "code",
      "source": [
        "dataloader = DataLoader(dataset, batch_size=128, shuffle=True)\n",
        "len(dataloader)"
      ],
      "metadata": {
        "colab": {
          "base_uri": "https://localhost:8080/"
        },
        "id": "c7e-GS6UNWpb",
        "outputId": "ab687d02-fc7f-4cbe-eaca-024413689fee"
      },
      "execution_count": 15,
      "outputs": [
        {
          "output_type": "execute_result",
          "data": {
            "text/plain": [
              "64"
            ]
          },
          "metadata": {},
          "execution_count": 15
        }
      ]
    },
    {
      "cell_type": "markdown",
      "source": [
        "## Model"
      ],
      "metadata": {
        "id": "HLWUc3tYiTF_"
      }
    },
    {
      "cell_type": "markdown",
      "source": [
        "### Word Embeddings + LSTM"
      ],
      "metadata": {
        "id": "Nh_b5_LniVzT"
      }
    },
    {
      "cell_type": "code",
      "source": [
        "class embedding_text(nn.Module):\n",
        "    def __init__(self, vocab_size, embed_dim, hidden_dim):\n",
        "        super(embedding_text, self).__init__()\n",
        "        self.embedding = nn.Embedding(vocab_size, embed_dim)\n",
        "        self.lstm = nn.LSTM(embed_dim, hidden_dim, batch_first=True)\n",
        "\n",
        "    def forward(self, captions):\n",
        "        embeds = self.embedding(captions)\n",
        "        _, (hidden, _) = self.lstm(embeds)\n",
        "        return hidden[-1]"
      ],
      "metadata": {
        "id": "3X8mOoQZiPDp"
      },
      "execution_count": 16,
      "outputs": []
    },
    {
      "cell_type": "markdown",
      "source": [
        "### DCGAN Model"
      ],
      "metadata": {
        "id": "IOip1_Siir8X"
      }
    },
    {
      "cell_type": "code",
      "source": [
        "class Generator(nn.Module):\n",
        "    def __init__(self, latent_dim, embed_dim):\n",
        "        super(Generator, self).__init__()\n",
        "        self.model = nn.Sequential(\n",
        "            nn.Linear(latent_dim + embed_dim, 128 * 4 * 4), # (B, 320) -> (B, 512)\n",
        "            nn.ReLU(True),\n",
        "\n",
        "            nn.Unflatten(1, (128, 4, 4)), # (B, 512) -> (B, 128, 4, 4)\n",
        "\n",
        "            nn.ConvTranspose2d(128, 64, 4, stride=2, padding=1), # (B, 128, 4, 4) -> (B, 64, 8, 8)\n",
        "            nn.ReLU(True),\n",
        "\n",
        "            nn.ConvTranspose2d(64, 3, 3, stride=1, padding=1), # (B, 64, 8, 8) -> (B, 3, 8, 8)\n",
        "            nn.Tanh()\n",
        "        )\n",
        "\n",
        "    def forward(self, noise, caption_embed):\n",
        "        x = torch.cat((noise, caption_embed), dim=1) # (B, 64) + (B, 256) = (B, 320)\n",
        "        return self.model(x)\n",
        "\n",
        "\n",
        "class Discriminator(nn.Module):\n",
        "    def __init__(self, embed_dim):\n",
        "        super(Discriminator, self).__init__()\n",
        "        self.cnn = nn.Sequential(\n",
        "            nn.Conv2d(3, 64, 3, stride=2, padding=1), # (B, 3, 8, 8) -> (B, 64, 4, 4)\n",
        "            nn.LeakyReLU(0.2, inplace=True),\n",
        "\n",
        "            nn.Conv2d(64, 128, 3 , stride=2, padding=1), # (B, 64, 4, 4) -> (B, 128, 2, 2)\n",
        "            nn.LeakyReLU(0.2, inplace=True),\n",
        "\n",
        "            nn.Flatten() # (B, 128, 2, 2) -> (B, 512)\n",
        "        )\n",
        "\n",
        "        self.fc = nn.Linear(512 + embed_dim, 1) # (B, 512) -> (B, 768)\n",
        "\n",
        "    def forward(self, img, caption_embed):\n",
        "        img_features = self.cnn(img)\n",
        "        x = torch.cat((img_features, caption_embed), dim=1) # (B, 512) + (B, 256) = (B, 768)\n",
        "        return torch.sigmoid(self.fc(x))"
      ],
      "metadata": {
        "id": "cAkNH1KGiq1U"
      },
      "execution_count": 17,
      "outputs": []
    },
    {
      "cell_type": "markdown",
      "source": [
        "## Training"
      ],
      "metadata": {
        "id": "laPkWoC6M0EK"
      }
    },
    {
      "cell_type": "code",
      "source": [
        "device = torch.device(\"cuda\" if torch.cuda.is_available() else \"cpu\")\n",
        "\n",
        "generator = Generator(64, 256).to(device)\n",
        "discriminator = Discriminator(256).to(device)\n",
        "text_embedding_model = embedding_text(len(tokenizer), 256, 256).to(device)\n",
        "\n",
        "optimizer_G = optim.Adam(generator.parameters(), lr=0.0002, betas=(0.5, 0.999))\n",
        "optimizer_D = optim.Adam(discriminator.parameters(), lr=0.0002, betas=(0.5, 0.999))\n",
        "criterion = nn.BCELoss()"
      ],
      "metadata": {
        "id": "uigpDkKTMrEn"
      },
      "execution_count": 18,
      "outputs": []
    },
    {
      "cell_type": "code",
      "source": [
        "batch_sample = next(iter(dataloader))\n",
        "\n",
        "batch_sample['image'].shape, batch_sample['caption'].shape"
      ],
      "metadata": {
        "colab": {
          "base_uri": "https://localhost:8080/"
        },
        "id": "qFeY9-LpNLBa",
        "outputId": "bd0f651c-0daf-4442-c153-3c1e0f7bf18f"
      },
      "execution_count": 19,
      "outputs": [
        {
          "output_type": "execute_result",
          "data": {
            "text/plain": [
              "(torch.Size([128, 3, 8, 8]), torch.Size([128, 20]))"
            ]
          },
          "metadata": {},
          "execution_count": 19
        }
      ]
    },
    {
      "cell_type": "code",
      "source": [
        "def show_grid(img):\n",
        "    \"\"\"Displays a grid of images.\"\"\"\n",
        "    npimg = img.cpu().numpy()\n",
        "    plt.imshow(np.transpose(npimg, (1, 2, 0)))\n",
        "    plt.axis(\"off\")\n",
        "    plt.show()\n",
        "\n",
        "show_grid(torchvision.utils.make_grid(batch_sample[\"image\"][:16], normalize=True))"
      ],
      "metadata": {
        "colab": {
          "base_uri": "https://localhost:8080/",
          "height": 170
        },
        "id": "OSYbapMPZvIS",
        "outputId": "4535662e-ecfc-45fa-bd36-355f53670407"
      },
      "execution_count": 20,
      "outputs": [
        {
          "output_type": "display_data",
          "data": {
            "text/plain": [
              "<Figure size 640x480 with 1 Axes>"
            ],
            "image/png": "[encoded data removed]"
          },
          "metadata": {}
        }
      ]
    },
    {
      "cell_type": "code",
      "source": [
        "caption_embeddings = text_embedding_model(batch_sample['caption'].to(device))\n",
        "caption_embeddings.shape"
      ],
      "metadata": {
        "colab": {
          "base_uri": "https://localhost:8080/"
        },
        "id": "IVtudBq8N-na",
        "outputId": "fec29222-600f-424e-e33a-2e4904c7a59a"
      },
      "execution_count": 21,
      "outputs": [
        {
          "output_type": "execute_result",
          "data": {
            "text/plain": [
              "torch.Size([128, 256])"
            ]
          },
          "metadata": {},
          "execution_count": 21
        }
      ]
    },
    {
      "cell_type": "code",
      "source": [
        "noise = torch.randn(batch_sample['image'].size(0), 64, device=device)\n",
        "fake_images = generator(noise, caption_embeddings)\n",
        "\n",
        "noise.shape, fake_images.shape"
      ],
      "metadata": {
        "colab": {
          "base_uri": "https://localhost:8080/"
        },
        "id": "_IAGiF8IOAnL",
        "outputId": "3572e4f1-5b00-421c-e53a-50239dcb24df"
      },
      "execution_count": 22,
      "outputs": [
        {
          "output_type": "execute_result",
          "data": {
            "text/plain": [
              "(torch.Size([128, 64]), torch.Size([128, 3, 8, 8]))"
            ]
          },
          "metadata": {},
          "execution_count": 22
        }
      ]
    },
    {
      "cell_type": "code",
      "source": [
        "for epoch in range(10):\n",
        "    d_losses, g_losses = [], []\n",
        "    for batch in dataloader:\n",
        "        images = batch[\"image\"].to(device)\n",
        "        captions = batch[\"caption\"].to(device)\n",
        "\n",
        "        caption_embeddings = text_embedding_model(captions)\n",
        "        noise = torch.randn(images.size(0), 64, device=device)\n",
        "\n",
        "        fake_images = generator(noise, caption_embeddings)\n",
        "        real_labels = torch.ones(images.size(0), 1, device=device)\n",
        "        fake_labels = torch.zeros(images.size(0), 1, device=device)\n",
        "\n",
        "        real_loss = criterion(\n",
        "            discriminator(images, caption_embeddings),\n",
        "            real_labels\n",
        "        )\n",
        "        fake_loss = criterion(\n",
        "            discriminator(fake_images.detach(), caption_embeddings),\n",
        "            fake_labels\n",
        "        )\n",
        "        '''    Detaches fake_images from the computation graph so that gradients\n",
        "        do not flow back to the generator during Discriminator training.     '''\n",
        "\n",
        "        d_loss = real_loss + fake_loss\n",
        "        optimizer_D.zero_grad()\n",
        "        d_loss.backward(retain_graph=True)\n",
        "        optimizer_D.step()\n",
        "\n",
        "        d_losses.append(d_loss.item())\n",
        "\n",
        "        g_loss = criterion(discriminator(fake_images, caption_embeddings), real_labels)\n",
        "\n",
        "        optimizer_G.zero_grad()\n",
        "        g_loss.backward()\n",
        "        optimizer_G.step()\n",
        "\n",
        "        g_losses.append(g_loss.item())\n",
        "\n",
        "    print(f\"Epoch [{epoch+1}|5], D Loss: {d_loss.item()}, G_Loss: {g_loss.item()}\")\n"
      ],
      "metadata": {
        "colab": {
          "base_uri": "https://localhost:8080/"
        },
        "id": "CbgitE6yOHUM",
        "outputId": "2fd164d2-0ac9-4d81-d70a-0e32af31e19b"
      },
      "execution_count": 23,
      "outputs": [
        {
          "output_type": "stream",
          "name": "stdout",
          "text": [
            "Epoch [1|5], D Loss: 1.4547555446624756, G_Loss: 0.7388249039649963\n",
            "Epoch [2|5], D Loss: 1.3988916873931885, G_Loss: 0.6821094155311584\n",
            "Epoch [3|5], D Loss: 1.2624428272247314, G_Loss: 0.8335824608802795\n",
            "Epoch [4|5], D Loss: 1.4130773544311523, G_Loss: 0.7029335498809814\n",
            "Epoch [5|5], D Loss: 1.2550088167190552, G_Loss: 0.8182761669158936\n",
            "Epoch [6|5], D Loss: 1.2532083988189697, G_Loss: 0.8602597117424011\n",
            "Epoch [7|5], D Loss: 1.4373643398284912, G_Loss: 0.7452926635742188\n",
            "Epoch [8|5], D Loss: 1.2845442295074463, G_Loss: 0.9641655683517456\n",
            "Epoch [9|5], D Loss: 1.3179402351379395, G_Loss: 0.8817906975746155\n",
            "Epoch [10|5], D Loss: 1.4315913915634155, G_Loss: 0.9042038321495056\n"
          ]
        }
      ]
    },
    {
      "cell_type": "code",
      "source": [
        "plt.figure(figsize=(10, 5))\n",
        "\n",
        "plt.plot(d_losses, label=\"Discriminator Loss\", color='red')\n",
        "plt.plot(g_losses, label=\"Generator Loss\", color='blue')\n",
        "plt.xlabel(\"Epochs\")\n",
        "plt.ylabel(\"Loss\")\n",
        "plt.title(\"Training Loss Over Epochs\")\n",
        "plt.legend()\n",
        "plt.grid()\n",
        "plt.show()"
      ],
      "metadata": {
        "colab": {
          "base_uri": "https://localhost:8080/",
          "height": 487
        },
        "id": "Ie_sXO5APTLB",
        "outputId": "1fe0b6a8-5968-41ec-a0cc-943a9fe9ff42"
      },
      "execution_count": 24,
      "outputs": [
        {
          "output_type": "display_data",
          "data": {
            "text/plain": [
              "<Figure size 1000x500 with 1 Axes>"
            ],
            "image/png": "[encoded data removed]"
          },
          "metadata": {}
        }
      ]
    },
    {
      "cell_type": "markdown",
      "source": [
        "## Prediction"
      ],
      "metadata": {
        "id": "NSq4TnEClm9W"
      }
    },
    {
      "cell_type": "code",
      "source": [
        "noise = torch.randn(size=(1, 64), device=device)\n",
        "caption_tensor = sample[\"caption\"].unsqueeze(0).to(device)\n",
        "with torch.no_grad():\n",
        "    caption_embedding = text_embedding_model(caption_tensor)\n",
        "    generated_image = generator(noise, caption_embedding)\n",
        "\n",
        "grid = torchvision.utils.make_grid(generated_image.cpu(), normalize=True)\n",
        "\n",
        "original_caption = tokenizer.decode(sample[\"caption\"], skip_special_tokens=True)\n",
        "print(f\"Caption: {original_caption}\")\n",
        "show_grid(grid)"
      ],
      "metadata": {
        "colab": {
          "base_uri": "https://localhost:8080/",
          "height": 424
        },
        "id": "426-2DQEV8kk",
        "outputId": "c3397e7e-72d8-4918-f545-59e8fcf00a5d"
      },
      "execution_count": 32,
      "outputs": [
        {
          "output_type": "stream",
          "name": "stdout",
          "text": [
            "Caption: a girl going into a wooden building .\n"
          ]
        },
        {
          "output_type": "display_data",
          "data": {
            "text/plain": [
              "<Figure size 640x480 with 1 Axes>"
            ],
            "image/png": "[encoded data removed]"
          },
          "metadata": {}
        }
      ]
    }
  ]
}